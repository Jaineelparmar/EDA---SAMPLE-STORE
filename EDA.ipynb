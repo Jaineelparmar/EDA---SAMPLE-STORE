{
 "cells": [
  {
   "cell_type": "markdown",
   "metadata": {},
   "source": [
    "### BY : JAINEEL PARMAR\n",
    "\n",
    "### TASK 4 : Exploratory Data Analysis - Retail (GRIP - The Spark Foundation)\n",
    "\n",
    "● Perform ‘Exploratory Data Analysis’ on dataset ‘SampleSuperstore’\n",
    "\n",
    "● As a business manager, try to find out the weak areas where you can work to\n",
    "make more profit.\n",
    "\n",
    "● What all business problems you can derive by exploring the data?"
   ]
  },
  {
   "cell_type": "markdown",
   "metadata": {},
   "source": [
    "### Importing all the required libraries"
   ]
  },
  {
   "cell_type": "code",
   "execution_count": 1,
   "metadata": {},
   "outputs": [],
   "source": [
    "import pandas as pd \n",
    "from pandas import DataFrame\n",
    "import numpy as np"
   ]
  },
  {
   "cell_type": "markdown",
   "metadata": {},
   "source": [
    "### Loading the data"
   ]
  },
  {
   "cell_type": "code",
   "execution_count": 2,
   "metadata": {},
   "outputs": [
    {
     "name": "stdout",
     "output_type": "stream",
     "text": [
      "          Category             City        Country  Discount  \\\n",
      "0        Furniture  Fort Lauderdale  United States      0.45   \n",
      "1  Office Supplies       Fort Worth  United States      0.80   \n",
      "2  Office Supplies       Fort Worth  United States      0.80   \n",
      "3        Furniture     Philadelphia  United States      0.30   \n",
      "4        Furniture     Philadelphia  United States      0.50   \n",
      "\n",
      "   Number of Records  Postal Code     Profit  Quantity      Sales  \\\n",
      "0                  1        33311  -383.0310         5   957.5775   \n",
      "1                  1        76106  -123.8580         5    68.8100   \n",
      "2                  1        76106    -3.8160         3     2.5440   \n",
      "3                  1        19140    -1.0196         2    71.3720   \n",
      "4                  1        19140 -1665.0522         7  3083.4300   \n",
      "\n",
      "       Segment       Ship Mode         State Sub-Category  \n",
      "0     Consumer  Standard Class       Florida       Tables  \n",
      "1  Home Office  Standard Class         Texas   Appliances  \n",
      "2  Home Office  Standard Class         Texas      Binders  \n",
      "3     Consumer    Second Class  Pennsylvania       Chairs  \n",
      "4     Consumer  Standard Class  Pennsylvania    Bookcases  \n"
     ]
    }
   ],
   "source": [
    "pd.set_option('display.max_columns', None)\n",
    "pd.set_option('display.max_rows', None)\n",
    "\n",
    "df = pd.read_csv('MYSampleSuperstore.csv')\n",
    "print(df.head())"
   ]
  },
  {
   "cell_type": "markdown",
   "metadata": {},
   "source": [
    "### Here, we are just going to select only the required columns we need."
   ]
  },
  {
   "cell_type": "code",
   "execution_count": 3,
   "metadata": {},
   "outputs": [
    {
     "name": "stdout",
     "output_type": "stream",
     "text": [
      "        Ship Mode      Segment         Category Sub-Category         State  \\\n",
      "0  Standard Class     Consumer        Furniture       Tables       Florida   \n",
      "1  Standard Class  Home Office  Office Supplies   Appliances         Texas   \n",
      "2  Standard Class  Home Office  Office Supplies      Binders         Texas   \n",
      "3    Second Class     Consumer        Furniture       Chairs  Pennsylvania   \n",
      "4  Standard Class     Consumer        Furniture    Bookcases  Pennsylvania   \n",
      "\n",
      "              City      Sales  Quantity  Discount     Profit  \n",
      "0  Fort Lauderdale   957.5775         5      0.45  -383.0310  \n",
      "1       Fort Worth    68.8100         5      0.80  -123.8580  \n",
      "2       Fort Worth     2.5440         3      0.80    -3.8160  \n",
      "3     Philadelphia    71.3720         2      0.30    -1.0196  \n",
      "4     Philadelphia  3083.4300         7      0.50 -1665.0522  \n"
     ]
    }
   ],
   "source": [
    "x = df[['Ship Mode', 'Segment', 'Category', 'Sub-Category', 'State', 'City', 'Sales', 'Quantity', 'Discount', 'Profit']]\n",
    "print(x.head())"
   ]
  },
  {
   "cell_type": "code",
   "execution_count": 4,
   "metadata": {},
   "outputs": [],
   "source": [
    "# print(len(x))\n",
    "# print(len(x[x['Ship Mode'] == 'Standard Class']))\n",
    "# print(len(x[x['Ship Mode'] == 'First Class']))\n",
    "# print(len(x[x['Ship Mode'] == 'Second Class']))\n",
    "# print(len(x[x['Ship Mode'] == 'Same Day']))"
   ]
  },
  {
   "cell_type": "code",
   "execution_count": 6,
   "metadata": {},
   "outputs": [
    {
     "name": "stderr",
     "output_type": "stream",
     "text": [
      "C:\\Users\\hp\\anaconda3\\lib\\site-packages\\ipykernel_launcher.py:2: SettingWithCopyWarning: \n",
      "A value is trying to be set on a copy of a slice from a DataFrame.\n",
      "Try using .loc[row_indexer,col_indexer] = value instead\n",
      "\n",
      "See the caveats in the documentation: https://pandas.pydata.org/pandas-docs/stable/user_guide/indexing.html#returning-a-view-versus-a-copy\n",
      "  \n",
      "C:\\Users\\hp\\anaconda3\\lib\\site-packages\\ipykernel_launcher.py:6: SettingWithCopyWarning: \n",
      "A value is trying to be set on a copy of a slice from a DataFrame.\n",
      "Try using .loc[row_indexer,col_indexer] = value instead\n",
      "\n",
      "See the caveats in the documentation: https://pandas.pydata.org/pandas-docs/stable/user_guide/indexing.html#returning-a-view-versus-a-copy\n",
      "  \n"
     ]
    }
   ],
   "source": [
    "# Real purchase price by seller\n",
    "x['Exact Price'] = x['Sales'] - x['Profit']\n",
    "# print(x.head())\n",
    "\n",
    "# Price per Quantity after getting the real purchase price\n",
    "x['Per Quantity Price After'] = x['Exact Price'] / x['Quantity']\n",
    "# print(x.head())"
   ]
  },
  {
   "cell_type": "code",
   "execution_count": 7,
   "metadata": {},
   "outputs": [
    {
     "name": "stdout",
     "output_type": "stream",
     "text": [
      "1936\n"
     ]
    }
   ],
   "source": [
    "\n",
    "x['Profit'].tolist()\n",
    "x['Exact Price'].tolist()\n",
    "\n",
    "z = []\n",
    "\n",
    "for i in range(0, len(x['Profit'] - 1)):\n",
    "\n",
    "    if (x['Profit'][i] <= 0) and (x['Profit'][i] >= -100):\n",
    "        z.append(x['Exact Price'][i] + 180)\n",
    "\n",
    "    elif (x['Profit'][i] <= -101) and (x['Profit'][i] >= -500):\n",
    "        z.append(x['Exact Price'][i] + 600)\n",
    "\n",
    "    elif (x['Profit'][i] <= -500):\n",
    "        z.append(x['Exact Price'][i] + 1000)\n",
    "    else:\n",
    "        z.append(x['Exact Price'][i] + 100)\n",
    "\n",
    "print(len(z))\n",
    "\n",
    "\n",
    "\n",
    "### OR YOU CAN ALSO USE (ZIP) FUNCTION\n",
    "\n",
    "# z = []\n",
    "\n",
    "# for a, b in zip(x['Profit'], x['Exact Price']):\n",
    "\n",
    "#     if (a <= 0) and (a >= -100):\n",
    "#         z.append(b + 180)\n",
    "\n",
    "#     elif (a <= -101) and (a >= -500):\n",
    "#         z.append(b + 600)\n",
    "\n",
    "#     elif (a <= -500):\n",
    "#         z.append(b + 1000)\n",
    "#     else:\n",
    "#         z.append(b + 100)\n",
    "\n",
    "# print(len(z))"
   ]
  },
  {
   "cell_type": "code",
   "execution_count": 13,
   "metadata": {},
   "outputs": [],
   "source": [
    "# Merging two Dataframes\n",
    "new = DataFrame(z, columns=['New Price'])\n",
    "\n",
    "# print(x.head())\n",
    "# print(new.head())"
   ]
  },
  {
   "cell_type": "code",
   "execution_count": 14,
   "metadata": {},
   "outputs": [],
   "source": [
    "MYNEW = pd.concat([x, new], axis=1)\n",
    "# print(MYNEW.head())"
   ]
  },
  {
   "cell_type": "code",
   "execution_count": 15,
   "metadata": {},
   "outputs": [],
   "source": [
    "# Replace the Discount for only 5%.\n",
    "MYNEW['Discount'] = MYNEW['Discount'].replace(MYNEW['Discount'], 0.05)"
   ]
  },
  {
   "cell_type": "code",
   "execution_count": 16,
   "metadata": {},
   "outputs": [],
   "source": [
    "# New Discount Price \n",
    "MYNEW['New Discount Price'] = MYNEW['New Price'] * MYNEW['Discount']"
   ]
  },
  {
   "cell_type": "code",
   "execution_count": 17,
   "metadata": {},
   "outputs": [],
   "source": [
    "# New Profit\n",
    "MYNEW['NEW PROFIT'] = (MYNEW['New Price'] - MYNEW['Exact Price']) - MYNEW['New Discount Price']"
   ]
  },
  {
   "cell_type": "code",
   "execution_count": 19,
   "metadata": {},
   "outputs": [],
   "source": [
    "# New Profit per quantity\n",
    "MYNEW['New Profit per quantity'] = MYNEW['NEW PROFIT'] / MYNEW['Quantity']"
   ]
  },
  {
   "cell_type": "code",
   "execution_count": 20,
   "metadata": {},
   "outputs": [
    {
     "name": "stdout",
     "output_type": "stream",
     "text": [
      "        Ship Mode      Segment         Category Sub-Category         State  \\\n",
      "0  Standard Class     Consumer        Furniture       Tables       Florida   \n",
      "1  Standard Class  Home Office  Office Supplies   Appliances         Texas   \n",
      "2  Standard Class  Home Office  Office Supplies      Binders         Texas   \n",
      "3    Second Class     Consumer        Furniture       Chairs  Pennsylvania   \n",
      "4  Standard Class     Consumer        Furniture    Bookcases  Pennsylvania   \n",
      "\n",
      "              City      Sales  Quantity  Discount     Profit  Exact Price  \\\n",
      "0  Fort Lauderdale   957.5775         5      0.05  -383.0310    1340.6085   \n",
      "1       Fort Worth    68.8100         5      0.05  -123.8580     192.6680   \n",
      "2       Fort Worth     2.5440         3      0.05    -3.8160       6.3600   \n",
      "3     Philadelphia    71.3720         2      0.05    -1.0196      72.3916   \n",
      "4     Philadelphia  3083.4300         7      0.05 -1665.0522    4748.4822   \n",
      "\n",
      "   Per Quantity Price After  New Price  New Discount Price  NEW PROFIT  \\\n",
      "0                  268.1217  1940.6085           97.030425  502.969575   \n",
      "1                   38.5336   792.6680           39.633400  560.366600   \n",
      "2                    2.1200   186.3600            9.318000  170.682000   \n",
      "3                   36.1958   252.3916           12.619580  167.380420   \n",
      "4                  678.3546  5748.4822          287.424110  712.575890   \n",
      "\n",
      "   New Profit per quantity  \n",
      "0               100.593915  \n",
      "1               112.073320  \n",
      "2                56.894000  \n",
      "3                83.690210  \n",
      "4               101.796556  \n"
     ]
    }
   ],
   "source": [
    "print(MYNEW.head())"
   ]
  },
  {
   "cell_type": "code",
   "execution_count": 21,
   "metadata": {},
   "outputs": [],
   "source": [
    "Sel_col = MYNEW[['Ship Mode', 'Segment', 'Category', 'Sub-Category', 'State', 'City', 'New Price', 'Quantity', 'Discount', 'New Discount Price', 'NEW PROFIT', 'New Profit per quantity']]"
   ]
  },
  {
   "cell_type": "code",
   "execution_count": 22,
   "metadata": {},
   "outputs": [],
   "source": [
    "Sel_col.to_csv('sam_store.csv')"
   ]
  },
  {
   "cell_type": "markdown",
   "metadata": {},
   "source": [
    "### PROBLEM SOLVED"
   ]
  }
 ],
 "metadata": {
  "kernelspec": {
   "display_name": "Python 3",
   "language": "python",
   "name": "python3"
  },
  "language_info": {
   "codemirror_mode": {
    "name": "ipython",
    "version": 3
   },
   "file_extension": ".py",
   "mimetype": "text/x-python",
   "name": "python",
   "nbconvert_exporter": "python",
   "pygments_lexer": "ipython3",
   "version": "3.7.6"
  }
 },
 "nbformat": 4,
 "nbformat_minor": 4
}
